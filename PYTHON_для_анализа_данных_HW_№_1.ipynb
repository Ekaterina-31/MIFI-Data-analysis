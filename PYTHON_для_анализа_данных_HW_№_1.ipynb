{
  "nbformat": 4,
  "nbformat_minor": 0,
  "metadata": {
    "colab": {
      "provenance": [],
      "authorship_tag": "ABX9TyOqYlePrN9U5VF4RCAuBQzK",
      "include_colab_link": true
    },
    "kernelspec": {
      "name": "python3",
      "display_name": "Python 3"
    },
    "language_info": {
      "name": "python"
    }
  },
  "cells": [
    {
      "cell_type": "markdown",
      "metadata": {
        "id": "view-in-github",
        "colab_type": "text"
      },
      "source": [
        "<a href=\"https://colab.research.google.com/github/Ekaterina-31/MIFI-Data-analysis/blob/main/PYTHON_%D0%B4%D0%BB%D1%8F_%D0%B0%D0%BD%D0%B0%D0%BB%D0%B8%D0%B7%D0%B0_%D0%B4%D0%B0%D0%BD%D0%BD%D1%8B%D1%85_HW_%E2%84%96_1.ipynb\" target=\"_parent\"><img src=\"https://colab.research.google.com/assets/colab-badge.svg\" alt=\"Open In Colab\"/></a>"
      ]
    },
    {
      "cell_type": "code",
      "source": [
        "git remote add origin https://github.com/Ekaterina-31/MIFI-HW.git\n",
        "git branch -M main\n",
        "git push -u origin main"
      ],
      "metadata": {
        "colab": {
          "base_uri": "https://localhost:8080/"
        },
        "id": "W93AzOQaQKcX",
        "outputId": "c1d2c717-376b-440a-f141-e91366fac4a3"
      },
      "execution_count": null,
      "outputs": [
        {
          "output_type": "error",
          "ename": "SyntaxError",
          "evalue": "invalid syntax (<ipython-input-1-3ffdd6e9b9b0>, line 1)",
          "traceback": [
            "\u001b[0;36m  File \u001b[0;32m\"<ipython-input-1-3ffdd6e9b9b0>\"\u001b[0;36m, line \u001b[0;32m1\u001b[0m\n\u001b[0;31m    git remote add origin https://github.com/Ekaterina-31/MIFI-HW.git\u001b[0m\n\u001b[0m        ^\u001b[0m\n\u001b[0;31mSyntaxError\u001b[0m\u001b[0;31m:\u001b[0m invalid syntax\n"
          ]
        }
      ]
    },
    {
      "cell_type": "code",
      "source": [
        "!pip install seaborn\n",
        "!pip install matplotlib"
      ],
      "metadata": {
        "colab": {
          "base_uri": "https://localhost:8080/"
        },
        "id": "wSRjfyNn5VpF",
        "outputId": "c35307e2-3743-4393-ccd3-e94ce0498736"
      },
      "execution_count": null,
      "outputs": [
        {
          "output_type": "stream",
          "name": "stdout",
          "text": [
            "Requirement already satisfied: seaborn in /usr/local/lib/python3.10/dist-packages (0.13.2)\n",
            "Requirement already satisfied: numpy!=1.24.0,>=1.20 in /usr/local/lib/python3.10/dist-packages (from seaborn) (1.26.4)\n",
            "Requirement already satisfied: pandas>=1.2 in /usr/local/lib/python3.10/dist-packages (from seaborn) (2.2.2)\n",
            "Requirement already satisfied: matplotlib!=3.6.1,>=3.4 in /usr/local/lib/python3.10/dist-packages (from seaborn) (3.8.0)\n",
            "Requirement already satisfied: contourpy>=1.0.1 in /usr/local/lib/python3.10/dist-packages (from matplotlib!=3.6.1,>=3.4->seaborn) (1.3.1)\n",
            "Requirement already satisfied: cycler>=0.10 in /usr/local/lib/python3.10/dist-packages (from matplotlib!=3.6.1,>=3.4->seaborn) (0.12.1)\n",
            "Requirement already satisfied: fonttools>=4.22.0 in /usr/local/lib/python3.10/dist-packages (from matplotlib!=3.6.1,>=3.4->seaborn) (4.55.0)\n",
            "Requirement already satisfied: kiwisolver>=1.0.1 in /usr/local/lib/python3.10/dist-packages (from matplotlib!=3.6.1,>=3.4->seaborn) (1.4.7)\n",
            "Requirement already satisfied: packaging>=20.0 in /usr/local/lib/python3.10/dist-packages (from matplotlib!=3.6.1,>=3.4->seaborn) (24.2)\n",
            "Requirement already satisfied: pillow>=6.2.0 in /usr/local/lib/python3.10/dist-packages (from matplotlib!=3.6.1,>=3.4->seaborn) (11.0.0)\n",
            "Requirement already satisfied: pyparsing>=2.3.1 in /usr/local/lib/python3.10/dist-packages (from matplotlib!=3.6.1,>=3.4->seaborn) (3.2.0)\n",
            "Requirement already satisfied: python-dateutil>=2.7 in /usr/local/lib/python3.10/dist-packages (from matplotlib!=3.6.1,>=3.4->seaborn) (2.8.2)\n",
            "Requirement already satisfied: pytz>=2020.1 in /usr/local/lib/python3.10/dist-packages (from pandas>=1.2->seaborn) (2024.2)\n",
            "Requirement already satisfied: tzdata>=2022.7 in /usr/local/lib/python3.10/dist-packages (from pandas>=1.2->seaborn) (2024.2)\n",
            "Requirement already satisfied: six>=1.5 in /usr/local/lib/python3.10/dist-packages (from python-dateutil>=2.7->matplotlib!=3.6.1,>=3.4->seaborn) (1.16.0)\n",
            "Requirement already satisfied: matplotlib in /usr/local/lib/python3.10/dist-packages (3.8.0)\n",
            "Requirement already satisfied: contourpy>=1.0.1 in /usr/local/lib/python3.10/dist-packages (from matplotlib) (1.3.1)\n",
            "Requirement already satisfied: cycler>=0.10 in /usr/local/lib/python3.10/dist-packages (from matplotlib) (0.12.1)\n",
            "Requirement already satisfied: fonttools>=4.22.0 in /usr/local/lib/python3.10/dist-packages (from matplotlib) (4.55.0)\n",
            "Requirement already satisfied: kiwisolver>=1.0.1 in /usr/local/lib/python3.10/dist-packages (from matplotlib) (1.4.7)\n",
            "Requirement already satisfied: numpy<2,>=1.21 in /usr/local/lib/python3.10/dist-packages (from matplotlib) (1.26.4)\n",
            "Requirement already satisfied: packaging>=20.0 in /usr/local/lib/python3.10/dist-packages (from matplotlib) (24.2)\n",
            "Requirement already satisfied: pillow>=6.2.0 in /usr/local/lib/python3.10/dist-packages (from matplotlib) (11.0.0)\n",
            "Requirement already satisfied: pyparsing>=2.3.1 in /usr/local/lib/python3.10/dist-packages (from matplotlib) (3.2.0)\n",
            "Requirement already satisfied: python-dateutil>=2.7 in /usr/local/lib/python3.10/dist-packages (from matplotlib) (2.8.2)\n",
            "Requirement already satisfied: six>=1.5 in /usr/local/lib/python3.10/dist-packages (from python-dateutil>=2.7->matplotlib) (1.16.0)\n"
          ]
        }
      ]
    },
    {
      "cell_type": "code",
      "execution_count": null,
      "metadata": {
        "id": "6Mmn174QCCi2",
        "colab": {
          "base_uri": "https://localhost:8080/"
        },
        "outputId": "beef74bc-81af-4ca2-80a1-47dcf335d9da"
      },
      "outputs": [
        {
          "output_type": "error",
          "ename": "MessageError",
          "evalue": "Error: credential propagation was unsuccessful",
          "traceback": [
            "\u001b[0;31m---------------------------------------------------------------------------\u001b[0m",
            "\u001b[0;31mMessageError\u001b[0m                              Traceback (most recent call last)",
            "\u001b[0;32m<ipython-input-3-1038813ec2bc>\u001b[0m in \u001b[0;36m<cell line: 3>\u001b[0;34m()\u001b[0m\n\u001b[1;32m      1\u001b[0m \u001b[0;31m# Загружаем файлы через Google Drive, чтобы избежать временных ограничений на загрузку файлов\u001b[0m\u001b[0;34m\u001b[0m\u001b[0;34m\u001b[0m\u001b[0m\n\u001b[1;32m      2\u001b[0m \u001b[0;32mfrom\u001b[0m \u001b[0mgoogle\u001b[0m\u001b[0;34m.\u001b[0m\u001b[0mcolab\u001b[0m \u001b[0;32mimport\u001b[0m \u001b[0mdrive\u001b[0m\u001b[0;34m\u001b[0m\u001b[0;34m\u001b[0m\u001b[0m\n\u001b[0;32m----> 3\u001b[0;31m \u001b[0mdrive\u001b[0m\u001b[0;34m.\u001b[0m\u001b[0mmount\u001b[0m\u001b[0;34m(\u001b[0m\u001b[0;34m'/content/drive'\u001b[0m\u001b[0;34m)\u001b[0m\u001b[0;34m\u001b[0m\u001b[0;34m\u001b[0m\u001b[0m\n\u001b[0m\u001b[1;32m      4\u001b[0m \u001b[0;34m\u001b[0m\u001b[0m\n\u001b[1;32m      5\u001b[0m \u001b[0;32mimport\u001b[0m \u001b[0mpandas\u001b[0m \u001b[0;32mas\u001b[0m \u001b[0mpd\u001b[0m\u001b[0;34m\u001b[0m\u001b[0;34m\u001b[0m\u001b[0m\n",
            "\u001b[0;32m/usr/local/lib/python3.10/dist-packages/google/colab/drive.py\u001b[0m in \u001b[0;36mmount\u001b[0;34m(mountpoint, force_remount, timeout_ms, readonly)\u001b[0m\n\u001b[1;32m     98\u001b[0m \u001b[0;32mdef\u001b[0m \u001b[0mmount\u001b[0m\u001b[0;34m(\u001b[0m\u001b[0mmountpoint\u001b[0m\u001b[0;34m,\u001b[0m \u001b[0mforce_remount\u001b[0m\u001b[0;34m=\u001b[0m\u001b[0;32mFalse\u001b[0m\u001b[0;34m,\u001b[0m \u001b[0mtimeout_ms\u001b[0m\u001b[0;34m=\u001b[0m\u001b[0;36m120000\u001b[0m\u001b[0;34m,\u001b[0m \u001b[0mreadonly\u001b[0m\u001b[0;34m=\u001b[0m\u001b[0;32mFalse\u001b[0m\u001b[0;34m)\u001b[0m\u001b[0;34m:\u001b[0m\u001b[0;34m\u001b[0m\u001b[0;34m\u001b[0m\u001b[0m\n\u001b[1;32m     99\u001b[0m   \u001b[0;34m\"\"\"Mount your Google Drive at the specified mountpoint path.\"\"\"\u001b[0m\u001b[0;34m\u001b[0m\u001b[0;34m\u001b[0m\u001b[0m\n\u001b[0;32m--> 100\u001b[0;31m   return _mount(\n\u001b[0m\u001b[1;32m    101\u001b[0m       \u001b[0mmountpoint\u001b[0m\u001b[0;34m,\u001b[0m\u001b[0;34m\u001b[0m\u001b[0;34m\u001b[0m\u001b[0m\n\u001b[1;32m    102\u001b[0m       \u001b[0mforce_remount\u001b[0m\u001b[0;34m=\u001b[0m\u001b[0mforce_remount\u001b[0m\u001b[0;34m,\u001b[0m\u001b[0;34m\u001b[0m\u001b[0;34m\u001b[0m\u001b[0m\n",
            "\u001b[0;32m/usr/local/lib/python3.10/dist-packages/google/colab/drive.py\u001b[0m in \u001b[0;36m_mount\u001b[0;34m(mountpoint, force_remount, timeout_ms, ephemeral, readonly)\u001b[0m\n\u001b[1;32m    135\u001b[0m   )\n\u001b[1;32m    136\u001b[0m   \u001b[0;32mif\u001b[0m \u001b[0mephemeral\u001b[0m\u001b[0;34m:\u001b[0m\u001b[0;34m\u001b[0m\u001b[0;34m\u001b[0m\u001b[0m\n\u001b[0;32m--> 137\u001b[0;31m     _message.blocking_request(\n\u001b[0m\u001b[1;32m    138\u001b[0m         \u001b[0;34m'request_auth'\u001b[0m\u001b[0;34m,\u001b[0m\u001b[0;34m\u001b[0m\u001b[0;34m\u001b[0m\u001b[0m\n\u001b[1;32m    139\u001b[0m         \u001b[0mrequest\u001b[0m\u001b[0;34m=\u001b[0m\u001b[0;34m{\u001b[0m\u001b[0;34m'authType'\u001b[0m\u001b[0;34m:\u001b[0m \u001b[0;34m'dfs_ephemeral'\u001b[0m\u001b[0;34m}\u001b[0m\u001b[0;34m,\u001b[0m\u001b[0;34m\u001b[0m\u001b[0;34m\u001b[0m\u001b[0m\n",
            "\u001b[0;32m/usr/local/lib/python3.10/dist-packages/google/colab/_message.py\u001b[0m in \u001b[0;36mblocking_request\u001b[0;34m(request_type, request, timeout_sec, parent)\u001b[0m\n\u001b[1;32m    174\u001b[0m       \u001b[0mrequest_type\u001b[0m\u001b[0;34m,\u001b[0m \u001b[0mrequest\u001b[0m\u001b[0;34m,\u001b[0m \u001b[0mparent\u001b[0m\u001b[0;34m=\u001b[0m\u001b[0mparent\u001b[0m\u001b[0;34m,\u001b[0m \u001b[0mexpect_reply\u001b[0m\u001b[0;34m=\u001b[0m\u001b[0;32mTrue\u001b[0m\u001b[0;34m\u001b[0m\u001b[0;34m\u001b[0m\u001b[0m\n\u001b[1;32m    175\u001b[0m   )\n\u001b[0;32m--> 176\u001b[0;31m   \u001b[0;32mreturn\u001b[0m \u001b[0mread_reply_from_input\u001b[0m\u001b[0;34m(\u001b[0m\u001b[0mrequest_id\u001b[0m\u001b[0;34m,\u001b[0m \u001b[0mtimeout_sec\u001b[0m\u001b[0;34m)\u001b[0m\u001b[0;34m\u001b[0m\u001b[0;34m\u001b[0m\u001b[0m\n\u001b[0m",
            "\u001b[0;32m/usr/local/lib/python3.10/dist-packages/google/colab/_message.py\u001b[0m in \u001b[0;36mread_reply_from_input\u001b[0;34m(message_id, timeout_sec)\u001b[0m\n\u001b[1;32m    101\u001b[0m     ):\n\u001b[1;32m    102\u001b[0m       \u001b[0;32mif\u001b[0m \u001b[0;34m'error'\u001b[0m \u001b[0;32min\u001b[0m \u001b[0mreply\u001b[0m\u001b[0;34m:\u001b[0m\u001b[0;34m\u001b[0m\u001b[0;34m\u001b[0m\u001b[0m\n\u001b[0;32m--> 103\u001b[0;31m         \u001b[0;32mraise\u001b[0m \u001b[0mMessageError\u001b[0m\u001b[0;34m(\u001b[0m\u001b[0mreply\u001b[0m\u001b[0;34m[\u001b[0m\u001b[0;34m'error'\u001b[0m\u001b[0;34m]\u001b[0m\u001b[0;34m)\u001b[0m\u001b[0;34m\u001b[0m\u001b[0;34m\u001b[0m\u001b[0m\n\u001b[0m\u001b[1;32m    104\u001b[0m       \u001b[0;32mreturn\u001b[0m \u001b[0mreply\u001b[0m\u001b[0;34m.\u001b[0m\u001b[0mget\u001b[0m\u001b[0;34m(\u001b[0m\u001b[0;34m'data'\u001b[0m\u001b[0;34m,\u001b[0m \u001b[0;32mNone\u001b[0m\u001b[0;34m)\u001b[0m\u001b[0;34m\u001b[0m\u001b[0;34m\u001b[0m\u001b[0m\n\u001b[1;32m    105\u001b[0m \u001b[0;34m\u001b[0m\u001b[0m\n",
            "\u001b[0;31mMessageError\u001b[0m: Error: credential propagation was unsuccessful"
          ]
        }
      ],
      "source": [
        "# Загружаем файлы через Google Drive, чтобы избежать временных ограничений на загрузку файлов\n",
        "from google.colab import drive\n",
        "drive.mount('/content/drive')\n",
        "\n",
        "import pandas as pd\n",
        "import matplotlib.pyplot as plt\n",
        "import seaborn as sns\n",
        "\n",
        "# Читаем csv-файлы из Google Drive. Из файла train.csv читаем только первые 1000000 строк\n",
        "train_df = pd.read_csv('/content/drive/MyDrive/Colab Notebooks/Python для анализа данных/HW № 1/train.csv', nrows=1000000)\n",
        "lectures_df = pd.read_csv('/content/drive/MyDrive/Colab Notebooks/Python для анализа данных/HW № 1/lectures.csv')\n",
        "questions_df = pd.read_csv('/content/drive/MyDrive/Colab Notebooks/Python для анализа данных/HW № 1/questions.csv')"
      ]
    },
    {
      "cell_type": "markdown",
      "source": [
        "Исследуем структуру данных в файле train.csv с информацией о прохождении тестов студентами на образовательной платформе:"
      ],
      "metadata": {
        "id": "24Z-EUAvg6gc"
      }
    },
    {
      "cell_type": "code",
      "source": [
        "# Выводим первые 5 строк таблицы\n",
        "display(train_df.head())"
      ],
      "metadata": {
        "id": "uWyw31lNevK9"
      },
      "execution_count": null,
      "outputs": []
    },
    {
      "cell_type": "code",
      "source": [
        "# Определяем количество строк и столбцов в таблице\n",
        "train_df.shape"
      ],
      "metadata": {
        "id": "Oj5zbqWLlLNx"
      },
      "execution_count": null,
      "outputs": []
    },
    {
      "cell_type": "code",
      "source": [
        "# Выводим более детальную информацию о столбцах таблицы (тип данных в каждом столбце таблицы, количество непустых значений в каждом столбце таблицы)\n",
        "train_df.info()"
      ],
      "metadata": {
        "id": "wBi3gmton_hl"
      },
      "execution_count": null,
      "outputs": []
    },
    {
      "cell_type": "code",
      "source": [
        "# Выводим количество пустых значений в каждом столбце таблицы\n",
        "train_df_NaN = train_df.isnull().sum().reset_index()\n",
        "train_df_NaN.columns = ['Показатель', 'Количество_NaN']\n",
        "display(train_df_NaN)"
      ],
      "metadata": {
        "id": "_cJbZzieMyWd"
      },
      "execution_count": null,
      "outputs": []
    },
    {
      "cell_type": "markdown",
      "source": [
        "Из детальной информации о столбцах таблицы следует, что непустые значения содержатся в колонке prior_question_elapsed_time, где отражается среднее время, которое потребовалось пользователю, чтобы ответить на каждый вопрос в предыдущем наборе вопросов, и в колонке prior_question_had_explanation с данными смотрел или нет пользователь объяснение и правильный ответ после ответа на предыдущий пакет вопросов"
      ],
      "metadata": {
        "id": "4l2FFgBR1fFT"
      }
    },
    {
      "cell_type": "code",
      "source": [
        "# Выводим на экран значение статистических параметров для столбцов таблицы из файла train.csv\n",
        "train_df.describe().loc[:, ['content_type_id', 'answered_correctly','prior_question_elapsed_time']]"
      ],
      "metadata": {
        "id": "kQ329T4h7QPM"
      },
      "execution_count": null,
      "outputs": []
    },
    {
      "cell_type": "code",
      "source": [
        "# Выводим на экран значение статистических параметров для столбца с типом данных 'object'\n",
        "train_df.describe(include=['object'])"
      ],
      "metadata": {
        "id": "Yb5fs6lWAd6D"
      },
      "execution_count": null,
      "outputs": []
    },
    {
      "cell_type": "markdown",
      "source": [
        "Статистические параметры столбцов таблицы из файла train.csv показывают:\n",
        "\n",
        "\n",
        "*   взаимодействие с пользователем в основном осуществляется через вопросы, заданные пользователю (значение показателя content_type_id = 0), нежели через лекции, которые смотрит пользователь (значение показателя content_type_id = 1). Об этом свидетельствуют среднее значение и квантили показателя content_type_id, которые близки к 0\n",
        "*   большая часть ответов пользователей на вопросы правильные. При этом для точного расчета доли правильных ответов требуется исключить из поля answered_correctly значения -1 для лекций. Расчет доли правильных ответов приведен ниже  \n",
        "*   в среднем время, затраченное на ответ на вопрос, составило 25 секунд. При этом стандартное отклонение составило 20 сек\n",
        "*   большинство пользователей смотрели объяснение и правильный ответ после ответа на предыдущий пакет вопросов, так как наболее частое значение показателя prior_question_had_explanation = True\n",
        "\n",
        "\n",
        "\n",
        "\n",
        "\n"
      ],
      "metadata": {
        "id": "ZDo0A_Bd2v78"
      }
    },
    {
      "cell_type": "markdown",
      "source": [
        "Аналогично исследуем структуру данных в файлах с лекциями и вопросами:"
      ],
      "metadata": {
        "id": "boAu-CEE6dcl"
      }
    },
    {
      "cell_type": "code",
      "source": [
        "# Выводим первые 5 строк таблиц\n",
        "display(lectures_df.head())\n",
        "display(questions_df.head())"
      ],
      "metadata": {
        "id": "9MJCi_J7kCHC"
      },
      "execution_count": null,
      "outputs": []
    },
    {
      "cell_type": "code",
      "source": [
        "# Определяем количество строк и столбцов в таблицах\n",
        "display(lectures_df.shape, questions_df.shape)"
      ],
      "metadata": {
        "id": "FcPax81D62B0"
      },
      "execution_count": null,
      "outputs": []
    },
    {
      "cell_type": "code",
      "source": [
        "# Выводим более детальную информацию о столбцах таблиц\n",
        "lectures_df.info()\n",
        "questions_df.info()"
      ],
      "metadata": {
        "id": "ROhUWNTZ8LJb"
      },
      "execution_count": null,
      "outputs": []
    },
    {
      "cell_type": "code",
      "source": [
        "# Выводим на экран значение статистических параметров для столбцов таблиц\n",
        "display(lectures_df.describe(), questions_df.describe())"
      ],
      "metadata": {
        "id": "eXw--TSB9Y6M"
      },
      "execution_count": null,
      "outputs": []
    },
    {
      "cell_type": "code",
      "source": [
        "# Выводим на экран значение статистических параметров для столбцов с типом данных 'object'\n",
        "display(lectures_df.describe(include=['object']), questions_df.describe(include=['object']))"
      ],
      "metadata": {
        "id": "08APaKtT-aht"
      },
      "execution_count": null,
      "outputs": []
    },
    {
      "cell_type": "code",
      "source": [
        "# Выведем темы лекций\n",
        "lectures_df['type_of'].unique()"
      ],
      "metadata": {
        "id": "L4wRPsmkBu0P"
      },
      "execution_count": null,
      "outputs": []
    },
    {
      "cell_type": "markdown",
      "source": [
        "Проанализируем характеристики, влияющие на успеваемость:"
      ],
      "metadata": {
        "id": "UJ57hW27XoZA"
      }
    },
    {
      "cell_type": "markdown",
      "source": [
        "1. Процент правильно отвеченных вопросов"
      ],
      "metadata": {
        "id": "O2ZMo3mWX0w_"
      }
    },
    {
      "cell_type": "code",
      "source": [
        "# Выведем значения, которые содержатся в столбце answered_correctly\n",
        "train_df['answered_correctly'].value_counts()"
      ],
      "metadata": {
        "id": "LbDvG0AfdL6i"
      },
      "execution_count": null,
      "outputs": []
    },
    {
      "cell_type": "code",
      "source": [
        "# Значение показателя answered_correctly -1 относится к лекциям\n",
        "# Ислючаем строки для лекций из таблицы для корректного расчета процента правильно отвеченных вопросов\n",
        "train_df[train_df['content_type_id'] == 0]['answered_correctly'].value_counts(normalize=True)"
      ],
      "metadata": {
        "id": "vS5L_Wn40cy1"
      },
      "execution_count": null,
      "outputs": []
    },
    {
      "cell_type": "markdown",
      "source": [
        "Вывод: пользователи ответили правильно на 65% вопросов"
      ],
      "metadata": {
        "id": "lpETLJJ70wu8"
      }
    },
    {
      "cell_type": "markdown",
      "source": [
        "2. Влияние времени на правильность ответа"
      ],
      "metadata": {
        "id": "lgXGN3Vr1IhL"
      }
    },
    {
      "cell_type": "code",
      "source": [
        "# Построим гистограмму, где по оси x отразим время, затраченное на ответ, по оси y количество ответов на вопросы\n",
        "sns.histplot(train_df['prior_question_elapsed_time'], kde = True)\n",
        "plt.title('Распределение времени на ответы')\n",
        "plt.show()"
      ],
      "metadata": {
        "id": "CAjHK3_s3TX1"
      },
      "execution_count": null,
      "outputs": []
    },
    {
      "cell_type": "markdown",
      "source": [
        "Из постороенной гистограммы видно, что в среднем время ответа составляет 20-30 секунд"
      ],
      "metadata": {
        "id": "3zu_WOlJniNH"
      }
    },
    {
      "cell_type": "code",
      "source": [
        "# Рассчитаем среднее арифметическое значение времени на ответ\n",
        "train_df['prior_question_elapsed_time'].mean()"
      ],
      "metadata": {
        "id": "LQ1rmILhfsXG"
      },
      "execution_count": null,
      "outputs": []
    },
    {
      "cell_type": "code",
      "source": [
        "# Выведем отдельно среднее арифметическое значение времени, затраченного на верный и на неверный ответ\n",
        "train_df.groupby('answered_correctly')['prior_question_elapsed_time'].mean()"
      ],
      "metadata": {
        "id": "bT5EiP7jjQsI"
      },
      "execution_count": null,
      "outputs": []
    },
    {
      "cell_type": "markdown",
      "source": [
        "Вывод: среднее время, затраченное на верный и на неверный ответ, отличается незначительно. Из этого можно сделать выврд, что время, затаченное на ответ не оказало существенного влияния на успеваемость студентов"
      ],
      "metadata": {
        "id": "M2W_Eywdpdba"
      }
    },
    {
      "cell_type": "markdown",
      "source": [
        "3. Влияние объяснений на правильность ответа"
      ],
      "metadata": {
        "id": "PoLmYVgb1Vyd"
      }
    },
    {
      "cell_type": "code",
      "source": [
        "# Выведем средее количество правильных ответов для случаев, когда студены смотрели объяснения и правильные ответы и когда не смотрели\n",
        "# Строки с данными по лекциям (content_type_id = 0) не учитываем\n",
        "explanation_correct = train_df[train_df['content_type_id'] == 0].groupby('prior_question_had_explanation')['answered_correctly'].mean()\n",
        "display(explanation_correct)"
      ],
      "metadata": {
        "id": "I6WwB20FB68c"
      },
      "execution_count": null,
      "outputs": []
    },
    {
      "cell_type": "markdown",
      "source": [
        "Вывод: разъяснения положительно влияют на успеваемость студентов. Если учащийся получал разъяснения, то отвечал правильно на вопросы в 67% случаев, иначе только в 49%"
      ],
      "metadata": {
        "id": "xcPp-hKFua9B"
      }
    },
    {
      "cell_type": "markdown",
      "source": [
        "4. Зависмость успеваемости от темактики, сложности вопросов"
      ],
      "metadata": {
        "id": "jzysV2zL1pMK"
      }
    },
    {
      "cell_type": "code",
      "source": [
        "# Объединим данные из файлов train.csv и questions.csv\n",
        "train_questions_df = pd.merge(train_df[train_df['content_type_id'] == 0], questions_df, left_on = 'content_id', right_on = 'question_id')\n",
        "train_questions_df.head()"
      ],
      "metadata": {
        "id": "e9uSM71I8j54"
      },
      "execution_count": null,
      "outputs": []
    },
    {
      "cell_type": "code",
      "source": [
        "# Анализ по тегам\n",
        "# Выведем среднее количество верных ответов по тегу или набору тегов\n",
        "tag_q_correctness = train_questions_df.groupby('tags')['answered_correctly'].mean()\n",
        "display(tag_q_correctness)"
      ],
      "metadata": {
        "id": "aDYp1mL48m9i"
      },
      "execution_count": null,
      "outputs": []
    },
    {
      "cell_type": "code",
      "source": [
        "# Анализ по разделам теста (part)\n",
        "# Выведем среднее количество верных ответов в зависимости от раздела теста\n",
        "part_q_correctness = train_questions_df.groupby('part')['answered_correctly'].mean()\n",
        "display(part_q_correctness)"
      ],
      "metadata": {
        "id": "CrtA7PJk9CLF"
      },
      "execution_count": null,
      "outputs": []
    },
    {
      "cell_type": "markdown",
      "source": [
        "Вывод: анализ по тегам и разделам теста показывает, что по различным темам, разделам теста среднее значение верных ответ отличается. На это могут влиять сложность темы и другие факторы, что также отражается на успеваемости студентов"
      ],
      "metadata": {
        "id": "2rBn-aWZ5D-E"
      }
    },
    {
      "cell_type": "markdown",
      "source": [
        "5. Роль лекций и объяснений в обучении"
      ],
      "metadata": {
        "id": "Tzz4XMYfAy9r"
      }
    },
    {
      "cell_type": "code",
      "source": [
        "# Создадим копию таблицы из файла train.csv, где заменим -1, NaN и False на 0\n",
        "train_df_copy = train_df.replace({-1: 0, 'NaN': 0, False: 0})\n",
        "# Выведем информацию о количестве лекций, которые посетил студент, количестве верных ответов и количестве полученных разъяснений\n",
        "# Эту информацию выводим в разрезе пользователей\n",
        "train_lectures_explanations = train_df_copy.groupby('user_id')[['content_type_id', 'answered_correctly', 'prior_question_had_explanation']].sum().reset_index().rename(columns={'content_type_id': 'lectures'})\n",
        "display(train_lectures_explanations)"
      ],
      "metadata": {
        "id": "p06jOywYBTch"
      },
      "execution_count": null,
      "outputs": []
    },
    {
      "cell_type": "code",
      "source": [
        "# В продолжение анализа, приведенного в пункте 3, построим график, чтобы выявить зависимость между полученными разъяснениями и количеством верных ответов\n",
        "train_lectures_explanations.plot(x='prior_question_had_explanation', y='answered_correctly', kind = 'scatter')"
      ],
      "metadata": {
        "id": "ByKmMjc7__Bt"
      },
      "execution_count": null,
      "outputs": []
    },
    {
      "cell_type": "markdown",
      "source": [
        "Вывод: на графике видим четкую зависимость между количеством полученных разъяснений и количеством верных ответов, что показывает существенное влияние этого фактора на успеваемость студентов"
      ],
      "metadata": {
        "id": "XezfgZ6tAibC"
      }
    },
    {
      "cell_type": "code",
      "source": [
        "# Построим график, чтобы выявить зависимость между колиеством лекций, которые посетил студент, и количеством верных ответов\n",
        "train_lectures_explanations.plot(x='lectures', y='answered_correctly', kind = 'scatter')"
      ],
      "metadata": {
        "id": "M9GwCX2-LUlG"
      },
      "execution_count": null,
      "outputs": []
    },
    {
      "cell_type": "markdown",
      "source": [
        "Вывод: на представленном графике мы также видим, что прослушивание лекций также положительно влияет на успеваемость, хотя зависимость не такая четкая как в случае с разъяснениями. Это может говорить о высом уровне подготовки студентов, который позволяем им успешно проходить тест без лекций, возможно студенты пользуются другими источниками информации кроме лекций на платформе и тп"
      ],
      "metadata": {
        "id": "3bCqVuvcB1H2"
      }
    }
  ]
}